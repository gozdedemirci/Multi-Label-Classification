{
 "cells": [
  {
   "cell_type": "markdown",
   "metadata": {
    "id": "moYsi4UwKksX"
   },
   "source": [
    "# Multi-Label Classification"
   ]
  },
  {
   "cell_type": "code",
   "execution_count": null,
   "metadata": {
    "id": "qexUg6u5KksZ",
    "outputId": "f3c41b2f-062c-4637-b7b1-b856bf663381"
   },
   "outputs": [
    {
     "name": "stderr",
     "output_type": "stream",
     "text": [
      "[nltk_data] Downloading package wordnet to\n",
      "[nltk_data]     /Users/gozdemervedemirci/nltk_data...\n",
      "[nltk_data]   Package wordnet is already up-to-date!\n",
      "[nltk_data] Downloading package punkt to\n",
      "[nltk_data]     /Users/gozdemervedemirci/nltk_data...\n",
      "[nltk_data]   Package punkt is already up-to-date!\n"
     ]
    },
    {
     "data": {
      "text/plain": [
       "True"
      ]
     },
     "execution_count": 1,
     "metadata": {},
     "output_type": "execute_result"
    }
   ],
   "source": [
    "# libraries\n",
    "from keras.preprocessing.sequence import pad_sequences\n",
    "from sklearn.model_selection import train_test_split\n",
    "from keras import initializers as initializers\n",
    "from keras.preprocessing.text import Tokenizer\n",
    "from keras.layers.embeddings import Embedding\n",
    "from keras.layers import Bidirectional, GRU\n",
    "from keras.engine.topology import Layer\n",
    "from keras.optimizers import Adam\n",
    "from keras import backend as K\n",
    "from keras.layers import Dense\n",
    "from keras.models import Model\n",
    "from keras.layers import Input\n",
    "from termcolor import colored\n",
    "\n",
    "from nltk.tokenize import word_tokenize\n",
    "from nltk.stem import WordNetLemmatizer\n",
    "from nltk.corpus import stopwords\n",
    "nltk.download('wordnet')\n",
    "from nltk import tokenize\n",
    "nltk.download('punkt')\n",
    "import nltk\n",
    "\n",
    "import matplotlib.pyplot as plt\n",
    "import pandas as pd\n",
    "import numpy as np\n",
    "import re"
   ]
  },
  {
   "cell_type": "code",
   "execution_count": null,
   "metadata": {
    "id": "nFB3EELwKksb"
   },
   "outputs": [],
   "source": [
    "# dataset\n",
    "data = pd.read_csv(\"train.csv\")"
   ]
  },
  {
   "cell_type": "markdown",
   "metadata": {
    "id": "dAkebPmaKksc"
   },
   "source": [
    "## Data EDA & Pre-Processing"
   ]
  },
  {
   "cell_type": "code",
   "execution_count": null,
   "metadata": {
    "id": "SysypNROKksc",
    "outputId": "4f7b8d09-dc51-4819-f6ba-b4191c78439b"
   },
   "outputs": [
    {
     "data": {
      "text/plain": [
       "id               0\n",
       "comment_text     0\n",
       "toxic            0\n",
       "severe_toxic     0\n",
       "obscene          0\n",
       "threat           0\n",
       "insult           0\n",
       "identity_hate    0\n",
       "dtype: int64"
      ]
     },
     "execution_count": 3,
     "metadata": {},
     "output_type": "execute_result"
    }
   ],
   "source": [
    "# NaN values\n",
    "data.isna().sum()"
   ]
  },
  {
   "cell_type": "code",
   "execution_count": null,
   "metadata": {
    "id": "ML4ODlfHKksc",
    "outputId": "ba9b552a-50dd-4b12-9c35-48edb6cf8559"
   },
   "outputs": [
    {
     "data": {
      "image/png": "[encoded data removed]",
      "text/plain": [
       "<Figure size 864x432 with 1 Axes>"
      ]
     },
     "metadata": {
      "needs_background": "light"
     },
     "output_type": "display_data"
    }
   ],
   "source": [
    "# labels distribution\n",
    "labels = data[[\"toxic\", \"severe_toxic\", \"obscene\", \"threat\", \"insult\", \"identity_hate\"]]\n",
    "\n",
    "fig = plt.figure(figsize = (12, 6))\n",
    "labels.sum(axis=0).plot.bar()\n",
    "plt.xticks(fontsize = 13, rotation = 45)\n",
    "plt.yticks(fontsize = 13)\n",
    "plt.title(\"Data labels counts\", fontsize = 22)\n",
    "plt.show()"
   ]
  },
  {
   "cell_type": "code",
   "execution_count": null,
   "metadata": {
    "id": "lYJIkC3jKksd"
   },
   "outputs": [],
   "source": [
    "# pre-processing\n",
    "stop_words = set(stopwords.words('english'))\n",
    "\n",
    "def preprocess_text(text):\n",
    "\n",
    "    # removing numbers and symbols\n",
    "    sentence = re.sub('[^a-zA-Z]', ' ', text)\n",
    "    \n",
    "    # removing single characters\n",
    "    sentence = re.sub(r\"\\s+[a-zA-Z]\\s+\", ' ', sentence)\n",
    "\n",
    "    # removing special characters\n",
    "    sentence = re.sub(r'[!”\"#$%&’()*+,-./:;<=>?@[\\]''^_`{|}~]','', sentence)\n",
    "    \n",
    "    # lowercase\n",
    "    sentence = sentence.lower()\n",
    "    \n",
    "    # removing stopwords\n",
    "    sentence = \" \".join([item for item in sentence.split() if item not in stop_words])\n",
    "    \n",
    "    # lemmatizing\n",
    "    lemmatizer = WordNetLemmatizer()\n",
    "    sentence = \" \".join([lemmatizer.lemmatize(item) for item in sentence.split()])\n",
    "    \n",
    "    return sentence"
   ]
  },
  {
   "cell_type": "code",
   "execution_count": null,
   "metadata": {
    "id": "ta836umKKkse"
   },
   "outputs": [],
   "source": [
    "# assign x and y data\n",
    "X = data['comment_text'].apply(preprocess_text)\n",
    "y = labels.values"
   ]
  },
  {
   "cell_type": "markdown",
   "metadata": {
    "id": "LLZn_h9jKkse"
   },
   "source": [
    "## Application\n",
    "\n",
    "### 1. Preparing X data\n",
    "\n",
    "- Prepared the application by embedding the texts in the X data into numerical vectors. (embedding)\n",
    "\n",
    "- Calculation of the parameters required for the application was made. (word count, max length, longest line, embedding size)\n",
    "\n",
    "After these applications, X data will consist of numerical vectors (padding) with each row of the same size. Each special number refers to a word."
   ]
  },
  {
   "cell_type": "code",
   "execution_count": null,
   "metadata": {
    "id": "IbYbR6qDKksf"
   },
   "outputs": [],
   "source": [
    "all_words = ' '.join([i for i in list(X)]).split()\n",
    "max_words = len(set(all_words))\n",
    "\n",
    "word_counts = lambda sentence: len(word_tokenize(sentence))\n",
    "longest_sentence = max(X, key=word_counts)\n",
    "max_len = len(word_tokenize(longest_sentence))\n",
    "embed_size = 100\n",
    "\n",
    "tokenizer = Tokenizer(num_words=max_words, lower=True)\n",
    "tokenizer.fit_on_texts(X)\n",
    "\n",
    "X = tokenizer.texts_to_sequences(X)\n",
    "padded_X = pad_sequences(X, padding='post', maxlen=max_len)"
   ]
  },
  {
   "cell_type": "markdown",
   "metadata": {
    "id": "AmHOr1MbKksf"
   },
   "source": [
    "### 2. Creating the word embedding matrix\n",
    "\n",
    "- GloVe (Global Vector) is used for word representation. GloVe is an algorithm that works with unsupervised learning. It is a library that is ready to calculate the vector relationship between words, together with the Pre-trained file.\n",
    "\n",
    "GloVe pre-trained word vector is loaded into the application by file. GloVe .txt document has been sent to you by mail with the name \"glove.6B.100d.txt\".\n",
    "\n",
    "<sub><sup>https://nlp.stanford.edu/projects/glove/</sup></sub>"
   ]
  },
  {
   "cell_type": "code",
   "execution_count": null,
   "metadata": {
    "id": "u4ZG0EdyKksf",
    "outputId": "6b80200d-118c-46dd-e4f9-7105f6cdbf32"
   },
   "outputs": [
    {
     "name": "stdout",
     "output_type": "stream",
     "text": [
      "Found 400000 word vectors.\n"
     ]
    }
   ],
   "source": [
    "embeddings_dictionary = {}\n",
    "\n",
    "with open('glove.6B.100d.txt', encoding='utf8') as f:\n",
    "    for line in f:\n",
    "        values = line.rstrip().rsplit(' ')\n",
    "        word = values[0]\n",
    "        embed = np.asarray(values[1:], dtype='float32')\n",
    "        embeddings_dictionary[word] = embed\n",
    "        \n",
    "print('Found {} word vectors.'.format(len(embeddings_dictionary)))\n",
    "        \n",
    "word_index = tokenizer.word_index\n",
    "num_words = min(max_words, len(word_index) + 1)\n",
    "embedding_matrix = np.zeros((num_words, embed_size), dtype='float32')\n",
    "\n",
    "for word, i in word_index.items():\n",
    "    if i >= max_words:\n",
    "        continue\n",
    "    embedding_vector = embeddings_dictionary.get(word)\n",
    "    if embedding_vector is not None:\n",
    "        embedding_matrix[i] = embedding_vector"
   ]
  },
  {
   "cell_type": "markdown",
   "metadata": {
    "id": "wh_U1c1yKksg"
   },
   "source": [
    "### 3. Editing the model\n",
    "\n",
    "Along with the previously found parameters, our application has density and layer values.\n",
    "\n",
    "Since our aim will be label prediction over sentences, a two-way layer has been created as past and future. *Bidirectional*\n",
    "\n",
    "Since the result output is 0 and 1 in multi-labels, the \"sigmoid\" function is taken in the activation.\n",
    "\n",
    "***Attention Mechanism***\n",
    "\n",
    "In order to find out from which related word the labels were selected in each line, a mechanism called *\"Hierarchical Attention Network\"* in the literature was used in the modeling. Here, while preparing the inputs and layers to be created for the model, the vector relationship between words is also taken into account. Thus, the relevant ***important*** word of the input text will be removed during testing and estimation."
   ]
  },
  {
   "cell_type": "code",
   "execution_count": null,
   "metadata": {
    "id": "Q2IgOAmHKksg"
   },
   "outputs": [],
   "source": [
    "class AttentionLayer(Layer):\n",
    "    \"\"\"\n",
    "    Hierarchial Attention Layer as described by Hierarchical Attention Networks for Document Classification(2016)\n",
    "    - Yang et. al.\n",
    "    Source: https://www.cs.cmu.edu/~hovy/papers/16HLT-hierarchical-attention-networks.pdf\n",
    "    Theano backend\n",
    "    \"\"\"\n",
    "\n",
    "    def __init__(self,attention_dim=100,return_coefficients=False,**kwargs):\n",
    "        # Initializer \n",
    "        self.supports_masking = True\n",
    "        self.return_coefficients = return_coefficients\n",
    "        self.init = initializers.get('glorot_uniform') # initializes values with uniform distribution\n",
    "        self.attention_dim = attention_dim\n",
    "        super(AttentionLayer, self).__init__(**kwargs)\n",
    "        \n",
    "    def get_config(self):\n",
    "\n",
    "        config = super().get_config().copy()\n",
    "        config.update({\n",
    "            'return_coefficients': self.return_coefficients,\n",
    "            \"initializers.get('glorot_uniform')\": self.init,\n",
    "            'attention_dim': self.attention_dim,\n",
    "            'True': self.supports_masking,\n",
    "        })\n",
    "        return config\n",
    "\n",
    "    def build(self, input_shape):\n",
    "        # Builds all weights\n",
    "        # W = Weight matrix, b = bias vector, u = context vector\n",
    "        assert len(input_shape) == 3\n",
    "        self.W = K.variable(self.init((input_shape[-1], self.attention_dim)),name='W')\n",
    "        self.b = K.variable(self.init((self.attention_dim, )),name='b')\n",
    "        self.u = K.variable(self.init((self.attention_dim, 1)),name='u')\n",
    "        self._trainable_weights = [self.W, self.b, self.u]\n",
    "\n",
    "        super(AttentionLayer, self).build(input_shape)\n",
    "\n",
    "    def compute_mask(self, input, input_mask=None):\n",
    "        return None\n",
    "\n",
    "    def call(self, hit, mask=None):\n",
    "        # Here, the actual calculation is done\n",
    "        uit = K.bias_add(K.dot(hit, self.W),self.b)\n",
    "        uit = K.tanh(uit)\n",
    "        \n",
    "        ait = K.dot(uit, self.u)\n",
    "        ait = K.squeeze(ait, -1)\n",
    "        ait = K.exp(ait)\n",
    "        \n",
    "        if mask is not None:\n",
    "            ait *= K.cast(mask, K.floatx())\n",
    "\n",
    "        ait /= K.cast(K.sum(ait, axis=1, keepdims=True) + K.epsilon(), K.floatx())\n",
    "        ait = K.expand_dims(ait)\n",
    "        weighted_input = hit * ait\n",
    "        \n",
    "        if self.return_coefficients:\n",
    "            return [K.sum(weighted_input, axis=1), ait]\n",
    "        else:\n",
    "            return K.sum(weighted_input, axis=1)\n",
    "\n",
    "    def compute_output_shape(self, input_shape):\n",
    "        if self.return_coefficients:\n",
    "            return [(input_shape[0], input_shape[-1]), (input_shape[0], input_shape[-1], 1)]\n",
    "        else:\n",
    "            return input_shape[0], input_shape[-1]\n",
    "    @classmethod\n",
    "    def from_config(cls, config):\n",
    "          return cls(**config)"
   ]
  },
  {
   "cell_type": "markdown",
   "metadata": {
    "id": "V9vxXmzTKksh"
   },
   "source": [
    "In the input text, word-based layers were created, not sentence-based. Thus, the desired number of relevant **words** can be determined."
   ]
  },
  {
   "cell_type": "code",
   "execution_count": null,
   "metadata": {
    "id": "F_u1Z76JKksh"
   },
   "outputs": [],
   "source": [
    "x = Embedding(max_words, embed_size, weights=[embedding_matrix], trainable=False)\n",
    "\n",
    "word_input = Input(shape=(max_len,),dtype='int32',name='word_input')\n",
    "word_sequences = x(word_input)\n",
    "word_gru = Bidirectional(GRU(128, return_sequences=True, dropout=0.1,recurrent_dropout=0.1))(word_sequences)\n",
    "word_dense = Dense(6, activation='sigmoid', name='word_dense')(word_gru) \n",
    "word_att,word_coeffs = AttentionLayer(embed_size,True,name='word_attention')(word_dense)\n",
    "\n",
    "model = Model(inputs = word_input,outputs = word_att)\n",
    "model.compile(loss='binary_crossentropy', optimizer=Adam(lr=1e-3), metrics=['accuracy'])"
   ]
  },
  {
   "cell_type": "code",
   "execution_count": null,
   "metadata": {
    "id": "f_CkPTeyKksh",
    "outputId": "d6b3b96d-1ec1-4e90-d329-f4e0320772d1"
   },
   "outputs": [
    {
     "name": "stdout",
     "output_type": "stream",
     "text": [
      "Model: \"functional_1\"\n",
      "_________________________________________________________________\n",
      "Layer (type)                 Output Shape              Param #   \n",
      "=================================================================\n",
      "word_input (InputLayer)      [(None, 1250)]            0         \n",
      "_________________________________________________________________\n",
      "embedding (Embedding)        (None, 1250, 100)         15869700  \n",
      "_________________________________________________________________\n",
      "bidirectional (Bidirectional (None, 1250, 256)         176640    \n",
      "_________________________________________________________________\n",
      "word_dense (Dense)           (None, 1250, 6)           1542      \n",
      "_________________________________________________________________\n",
      "word_attention (AttentionLay [(None, 6), (None, 1250,  800       \n",
      "=================================================================\n",
      "Total params: 16,048,682\n",
      "Trainable params: 178,982\n",
      "Non-trainable params: 15,869,700\n",
      "_________________________________________________________________\n"
     ]
    }
   ],
   "source": [
    "model.summary()"
   ]
  },
  {
   "cell_type": "markdown",
   "metadata": {
    "id": "K2dRLGudKksh"
   },
   "source": [
    "#### Dataset Splitting"
   ]
  },
  {
   "cell_type": "code",
   "execution_count": null,
   "metadata": {
    "id": "l91-ucjYKksi"
   },
   "outputs": [],
   "source": [
    "# verisetini bölme\n",
    "X_train, X_test, y_train, y_test = train_test_split(padded_X, y, test_size=0.3, random_state=42)"
   ]
  },
  {
   "cell_type": "markdown",
   "metadata": {
    "id": "mXaytohJKksi"
   },
   "source": [
    "### Model Fitting"
   ]
  },
  {
   "cell_type": "code",
   "execution_count": null,
   "metadata": {
    "id": "8bMwFxA-Kksi",
    "outputId": "9a093527-ce80-4749-8f99-9b67f57e60a5"
   },
   "outputs": [
    {
     "name": "stdout",
     "output_type": "stream",
     "text": [
      "699/699 [==============================] - 4173s 6s/step - loss: 0.0962 - accuracy: 0.9900 - val_loss: 0.0593 - val_accuracy: 0.9940\n"
     ]
    }
   ],
   "source": [
    "batch_size = 128\n",
    "history = model.fit(X_train, y_train, validation_split=0.2, batch_size=batch_size, epochs=1)"
   ]
  },
  {
   "cell_type": "code",
   "execution_count": null,
   "metadata": {
    "id": "ugolTvnqKksi",
    "outputId": "ca8a3e79-9f00-4de9-a832-17f781355a36"
   },
   "outputs": [
    {
     "name": "stdout",
     "output_type": "stream",
     "text": [
      "1496/1496 [==============================] - 420s 281ms/step - loss: 0.0573 - accuracy: 0.9940\n",
      "Test set accuracy:  0.9940466284751892\n",
      "Test set loss:  0.057336051017045975\n"
     ]
    }
   ],
   "source": [
    "loss, acc = model.evaluate(X_test,y_test)\n",
    "print(\"Test set accuracy: \",acc)\n",
    "print(\"Test set loss: \", loss)"
   ]
  },
  {
   "cell_type": "markdown",
   "metadata": {
    "id": "2y8nvWAHKksi"
   },
   "source": [
    "The accuracy rates of the model and test data are almost the same. I couldn't print out the epoch-accuracy and epoch-loss figures because it was fitted with 1 epoch. We could comment on whether there is an overfitting by looking here.\n",
    "\n",
    "Considering the sigmoid function, as a result of the labels values greater than 0.5 are assigned values of 1 and those of less than 0 values.\n",
    "\n",
    "After all the steps, estimation was made with the X_test data that we separated in the dataset. As a result, 99% accuracy was found. For a detailed illustration of the result, a random line, its estimates and actual values are given."
   ]
  },
  {
   "cell_type": "markdown",
   "metadata": {
    "id": "G26dUm4CKksi"
   },
   "source": [
    "## Hierarchial Attention Network\n",
    "\n",
    "After model fitting, we will now call the word attention mechanism and try it on the test.\n",
    "\n",
    "In the function named karsilastirma(), by entering any number of lines (test_number) and the number of words assigned from the attention mechanism (n) in the X_test dataset, the text given in that line, the labels of that line, the predicted labels for that line, and the number of important and significant in that line. specified (n) *\"highlighted\"* words are given as output."
   ]
  },
  {
   "cell_type": "code",
   "execution_count": null,
   "metadata": {
    "id": "b8R9GriZKksj"
   },
   "outputs": [],
   "source": [
    "def wordAttentionWeights(sequenceSentence,weights):\n",
    "    \"\"\"\n",
    "    The same function as the AttentionLayer class.\n",
    "    \"\"\"\n",
    "    uit = np.dot(sequenceSentence, weights[0]) + weights[1]\n",
    "    uit = np.tanh(uit)\n",
    "\n",
    "    ait = np.dot(uit, weights[2])\n",
    "    ait = np.squeeze(ait)\n",
    "    ait = np.exp(ait)\n",
    "    ait /= np.sum(ait)\n",
    "    \n",
    "    return ait\n",
    "\n",
    "def karsilastirma(test_no, n):\n",
    "    text = tokenizer.sequences_to_texts([X_test[test_no]])\n",
    "    summary_cleaned = preprocess_text(str(text))\n",
    "    \n",
    "    all_words = ' '.join([i for i in list(summary_cleaned)]).split()\n",
    "    max_words = len(set(all_words))\n",
    "\n",
    "    tokenizer_test = Tokenizer(num_words=max_words, lower=True)\n",
    "    tokenizer_test.fit_on_texts(summary_cleaned)\n",
    "\n",
    "    padded_x = tokenizer_test.texts_to_sequences(summary_cleaned)\n",
    "    padded_text = pad_sequences(padded_x, padding='post', maxlen=max_len)\n",
    "\n",
    "    hidden_word_encoding_out = Model(inputs=model.input, outputs=model.get_layer('word_dense').output)\n",
    "    word_context = model.get_layer('word_attention').get_weights()\n",
    "    hidden_word_encodings = hidden_word_encoding_out.predict(padded_text)\n",
    "    ait = wordAttentionWeights(hidden_word_encodings,word_context)\n",
    "    \n",
    "    # Get n words with most attention in document\n",
    "    n_words = n\n",
    "\n",
    "    flattenlist = []\n",
    "    words_unpadded = []\n",
    "    for idx,sent in enumerate(tokenize.sent_tokenize(summary_cleaned)):\n",
    "        attword_list = tokenize.word_tokenize(sent.rstrip('.'))\n",
    "        ait_short = (1000*ait[idx][:len(attword_list)]).tolist()\n",
    "        words_unpadded.extend(ait_short)\n",
    "        flattenlist.extend(attword_list)\n",
    "\n",
    "\n",
    "    words_unpadded = np.array(words_unpadded)\n",
    "    sorted_wordlist = [flattenlist[i] for i in words_unpadded.argsort()]\n",
    "\n",
    "    mostAtt_words = []\n",
    "    i = 0\n",
    "    for word in reversed(sorted_wordlist):\n",
    "        if word not in mostAtt_words:\n",
    "            mostAtt_words.append(word)\n",
    "            i += 1\n",
    "        if(i>=n_words):\n",
    "            break\n",
    "            \n",
    "            \n",
    "    prediction = model.predict(np.expand_dims(X_test[test_no], 0))\n",
    "    prediction = np.where(prediction > 0.5, 1, 0)\n",
    "\n",
    "    _, idx = np.where(prediction == 1)\n",
    "    if idx.all == 0:\n",
    "        etiket = \"Hiçbir etiket uygun değil.\"\n",
    "    else:\n",
    "        etiket = labels.columns[idx]\n",
    "\n",
    "    # text = tokenizer.sequences_to_texts([X_test[47846]])\n",
    "\n",
    "    from termcolor import colored\n",
    "    formattedText = []\n",
    "    for t in str(text).split():\n",
    "        if t in mostAtt_words:\n",
    "            formattedText.append(colored(t,'white','on_red'))\n",
    "        else: \n",
    "            formattedText.append(t)\n",
    "\n",
    "    highlighted_text = \" \".join(formattedText)\n",
    "    \n",
    "    print(\"Metin: \", highlighted_text)\n",
    "    print(\"\\nGerçek etiketleri sırasıyla:\\t\\t\",y_test[47846])\n",
    "    print(\"\\nTahmin edilen etiketler: \\t\\t\", prediction)\n",
    "    print(\"\\nCümleye göre etkili olduğu etiketler:\\t\", list(etiket))\n",
    "    print(\"\\nÖnemli kelimeler (5 kelime eşiği ile):\\t\", mostAtt_words)"
   ]
  },
  {
   "cell_type": "markdown",
   "metadata": {
    "id": "gw3GT98tKksj"
   },
   "source": [
    "---\n",
    "\n",
    "Testing the 7887th row in the X_test dataset:\n",
    "\n",
    "There will be 4 close words."
   ]
  },
  {
   "cell_type": "code",
   "execution_count": null,
   "metadata": {
    "id": "Q8eTxOY-Kksj",
    "outputId": "b41b7b5f-2609-44c6-9e1a-8c9bc50aa87d"
   },
   "outputs": [
    {
     "name": "stdout",
     "output_type": "stream",
     "text": [
      "Metin:  ['give \u001b[41m\u001b[37mbreak\u001b[0m \u001b[41m\u001b[37mcalling\u001b[0m \u001b[41m\u001b[37mguessing\u001b[0m \u001b[41m\u001b[37mguessing\u001b[0m \u001b[41m\u001b[37msaying\u001b[0m law would suggest make year old girl test law swimmer hope cannot fathom defense yes child adi \u001b[41m\u001b[37mguessing\u001b[0m committing crime \u001b[41m\u001b[37mguessing\u001b[0m word someone like defending \u001b[41m\u001b[37mguessing\u001b[0m talk page saini']\n",
      "\n",
      "Gerçek etiketleri sırasıyla:\t\t [1 0 1 0 1 1]\n",
      "\n",
      "Tahmin edilen etiketler: \t\t [[1 0 0 0 0 0]]\n",
      "\n",
      "Cümleye göre etkili olduğu etiketler:\t ['toxic']\n",
      "\n",
      "Önemli kelimeler (5 kelime eşiği ile):\t ['calling', 'break', 'guessing', 'saying']\n"
     ]
    }
   ],
   "source": [
    "karsilastirma(7887,4)"
   ]
  },
  {
   "cell_type": "markdown",
   "metadata": {
    "id": "g_cRlsndKksj"
   },
   "source": [
    "---\n",
    "\n",
    "Testing the 47846th row in the x_test dataset:\n",
    "\n",
    "There will be 5 close words."
   ]
  },
  {
   "cell_type": "code",
   "execution_count": null,
   "metadata": {
    "id": "a0trks4kKksj",
    "outputId": "5e54bf83-a7f0-45a5-e4f0-9457afb99d7d"
   },
   "outputs": [
    {
     "name": "stdout",
     "output_type": "stream",
     "text": [
      "Metin:  ['previous \u001b[41m\u001b[37mconversation\u001b[0m \u001b[41m\u001b[37mfucking\u001b[0m \u001b[41m\u001b[37mshit\u001b[0m \u001b[41m\u001b[37meating\u001b[0m \u001b[41m\u001b[37mliberal\u001b[0m make lady bird johnson shake tampon said \u001b[41m\u001b[37mfucking\u001b[0m sorry little brother still \u001b[41m\u001b[37mfucking\u001b[0m complain life \u001b[41m\u001b[37mfucking\u001b[0m \u001b[41m\u001b[37mshit\u001b[0m mother always yelling dad beat \u001b[41m\u001b[37mshit\u001b[0m get \u001b[41m\u001b[37mfucking\u001b[0m line brother one outlet wikipedia cried saw father smacking tear clogged mac book pro keyboard go \u001b[41m\u001b[37mfucking\u001b[0m apple get new one mom pocket last night wanted take hot pussy connecticut dad new roll royce said \u001b[41m\u001b[37mfucking\u001b[0m know \u001b[41m\u001b[37mfucking\u001b[0m \u001b[41m\u001b[37mfucking\u001b[0m cut pinky didnt snitch like little bitch like take lazy as nigger like stomp fat nazi heel \u001b[41m\u001b[37mfucking\u001b[0m sorry ever fucked dad steve job find using linux take pity thee cause stupid understand \u001b[41m\u001b[37mshit\u001b[0m see \u001b[41m\u001b[37mfucking\u001b[0m \u001b[41m\u001b[37mfucking\u001b[0m computer think power \u001b[41m\u001b[37mfucking\u001b[0m site let tell something little bitch coke stripper titty da clubz edit \u001b[41m\u001b[37mfucking\u001b[0m wikipedia article smoke phat blunt every damn day smoke mom \u001b[41m\u001b[37mfucking\u001b[0m tea closing shakespeare said sonnet ninety four believe thing turn sourest deed lillie fester smell far worse \u001b[41m\u001b[37mfucking\u001b[0m weed fuck heil hitler job p ever \u001b[41m\u001b[37mfucking\u001b[0m ban ip going serious \u001b[41m\u001b[37mshit\u001b[0m thats gonna happen know \u001b[41m\u001b[37mfucking\u001b[0m guy']\n",
      "\n",
      "Gerçek etiketleri sırasıyla:\t\t [1 0 1 0 1 1]\n",
      "\n",
      "Tahmin edilen etiketler: \t\t [[1 1 1 0 1 0]]\n",
      "\n",
      "Cümleye göre etkili olduğu etiketler:\t ['toxic', 'severe_toxic', 'obscene', 'insult']\n",
      "\n",
      "Önemli kelimeler (5 kelime eşiği ile):\t ['fucking', 'shit', 'conversation', 'eating', 'liberal']\n"
     ]
    }
   ],
   "source": [
    "karsilastirma(47846, 5)"
   ]
  }
 ],
 "metadata": {
  "colab": {
   "collapsed_sections": [],
   "name": "Artiwise-NLP-Task2.ipynb",
   "provenance": []
  },
  "kernelspec": {
   "display_name": "Python 3 (ipykernel)",
   "language": "python",
   "name": "python3"
  },
  "language_info": {
   "codemirror_mode": {
    "name": "ipython",
    "version": 3
   },
   "file_extension": ".py",
   "mimetype": "text/x-python",
   "name": "python",
   "nbconvert_exporter": "python",
   "pygments_lexer": "ipython3",
   "version": "3.9.7"
  }
 },
 "nbformat": 4,
 "nbformat_minor": 4
}
